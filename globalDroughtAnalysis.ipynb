{
 "cells": [
  {
   "cell_type": "markdown",
   "metadata": {},
   "source": [
    "### Global Drought Analysis "
   ]
  },
  {
   "cell_type": "code",
   "execution_count": 142,
   "metadata": {},
   "outputs": [],
   "source": [
    "import pandas as pd \n",
    "import numpy as np\n",
    "from simpledbf import Dbf5\n",
    "import geopandas as gpd\n",
    "import linecache\n",
    "import matplotlib.pyplot as plt"
   ]
  },
  {
   "cell_type": "markdown",
   "metadata": {},
   "source": [
    "### Global Drought Mortality Risks and Distribution dataset in NASA\n",
    "\n",
    "    Abstract:\n",
    "*Global Drought Mortality Risks and Distribution is a 2.5 minute grid of global drought mortality risks. Gridded Population of the World, Version 3 (GPWv3) data provide a baseline estimation of population per grid cell from which to estimate potential mortality risks due to drought hazard. Mortality loss estimates per hazard event are calculated using regional, hazard-specific mortality records of the Emergency Events Database (EM-DAT) that span the 20 years between 1981 and 2000. Data regarding the frequency and distribution of drought hazard are obtained from the Global Drought Hazard Frequency and Distribution data set. In order to more accurately reflect the confidence associated with the data and procedures, the potential mortality estimate range is classified into deciles, 10 classes of increasing risk with an approximately equal number of grid cells per class, producing a relative estimate of drought-based mortality risks. This data set is the result of collaboration among the Columbia University Center for Hazards and Risk Research (CHRR), International Bank for Reconstruction and Development/The World Bank, and Columbia University Center for International Earth Science Information Network (CIESIN).*\n",
    "\n",
    "Source: http://sedac.ciesin.columbia.edu/data/set/ndh-drought-mortality-risks-distribution"
   ]
  },
  {
   "cell_type": "markdown",
   "metadata": {},
   "source": [
    "Dataset includes 4 files:\n",
    " - gddrgmrt.zip\n",
    " - gddrgmrt.dbf\n",
    " - gddrgmrt.asc\n",
    " - gddrgmrt.prj"
   ]
  },
  {
   "cell_type": "code",
   "execution_count": 147,
   "metadata": {},
   "outputs": [],
   "source": [
    "# Opening and coverting to dbf to pandas dataframe\n",
    "dbf = Dbf5('gddrgmrt/gddrgmrt.dbf')\n",
    "df = dbf.to_dataframe()"
   ]
  },
  {
   "cell_type": "code",
   "execution_count": 148,
   "metadata": {},
   "outputs": [
    {
     "data": {
      "text/html": [
       "<div>\n",
       "<style scoped>\n",
       "    .dataframe tbody tr th:only-of-type {\n",
       "        vertical-align: middle;\n",
       "    }\n",
       "\n",
       "    .dataframe tbody tr th {\n",
       "        vertical-align: top;\n",
       "    }\n",
       "\n",
       "    .dataframe thead th {\n",
       "        text-align: right;\n",
       "    }\n",
       "</style>\n",
       "<table border=\"1\" class=\"dataframe\">\n",
       "  <thead>\n",
       "    <tr style=\"text-align: right;\">\n",
       "      <th></th>\n",
       "      <th>VALUE</th>\n",
       "      <th>COUNT</th>\n",
       "      <th>POP</th>\n",
       "      <th>GDPVALUE</th>\n",
       "      <th>AGVALUE</th>\n",
       "      <th>AREAKM</th>\n",
       "      <th>TRANSKM</th>\n",
       "    </tr>\n",
       "  </thead>\n",
       "  <tbody>\n",
       "    <tr>\n",
       "      <th>0</th>\n",
       "      <td>1</td>\n",
       "      <td>172346</td>\n",
       "      <td>46258900.0</td>\n",
       "      <td>3.721354e+11</td>\n",
       "      <td>4.680761e+10</td>\n",
       "      <td>3351898.0</td>\n",
       "      <td>238678.3</td>\n",
       "    </tr>\n",
       "    <tr>\n",
       "      <th>1</th>\n",
       "      <td>2</td>\n",
       "      <td>141586</td>\n",
       "      <td>68300560.0</td>\n",
       "      <td>4.505782e+11</td>\n",
       "      <td>2.798854e+10</td>\n",
       "      <td>2619113.0</td>\n",
       "      <td>186475.5</td>\n",
       "    </tr>\n",
       "    <tr>\n",
       "      <th>2</th>\n",
       "      <td>3</td>\n",
       "      <td>153761</td>\n",
       "      <td>135385500.0</td>\n",
       "      <td>6.539678e+11</td>\n",
       "      <td>4.045008e+10</td>\n",
       "      <td>2827104.0</td>\n",
       "      <td>190959.6</td>\n",
       "    </tr>\n",
       "    <tr>\n",
       "      <th>3</th>\n",
       "      <td>4</td>\n",
       "      <td>154762</td>\n",
       "      <td>288280200.0</td>\n",
       "      <td>9.655730e+11</td>\n",
       "      <td>8.178319e+10</td>\n",
       "      <td>2907281.0</td>\n",
       "      <td>214368.3</td>\n",
       "    </tr>\n",
       "    <tr>\n",
       "      <th>4</th>\n",
       "      <td>5</td>\n",
       "      <td>155121</td>\n",
       "      <td>532385600.0</td>\n",
       "      <td>1.711740e+12</td>\n",
       "      <td>1.202621e+11</td>\n",
       "      <td>2938750.0</td>\n",
       "      <td>249740.6</td>\n",
       "    </tr>\n",
       "  </tbody>\n",
       "</table>\n",
       "</div>"
      ],
      "text/plain": [
       "   VALUE   COUNT          POP      GDPVALUE       AGVALUE     AREAKM   TRANSKM\n",
       "0      1  172346   46258900.0  3.721354e+11  4.680761e+10  3351898.0  238678.3\n",
       "1      2  141586   68300560.0  4.505782e+11  2.798854e+10  2619113.0  186475.5\n",
       "2      3  153761  135385500.0  6.539678e+11  4.045008e+10  2827104.0  190959.6\n",
       "3      4  154762  288280200.0  9.655730e+11  8.178319e+10  2907281.0  214368.3\n",
       "4      5  155121  532385600.0  1.711740e+12  1.202621e+11  2938750.0  249740.6"
      ]
     },
     "execution_count": 148,
     "metadata": {},
     "output_type": "execute_result"
    }
   ],
   "source": [
    "df.head()"
   ]
  },
  {
   "cell_type": "code",
   "execution_count": null,
   "metadata": {},
   "outputs": [],
   "source": [
    "df.isna.sum"
   ]
  },
  {
   "cell_type": "code",
   "execution_count": 107,
   "metadata": {},
   "outputs": [
    {
     "data": {
      "text/plain": [
       "pandas.core.frame.DataFrame"
      ]
     },
     "execution_count": 107,
     "metadata": {},
     "output_type": "execute_result"
    }
   ],
   "source": [
    "type(df)"
   ]
  },
  {
   "cell_type": "code",
   "execution_count": 108,
   "metadata": {},
   "outputs": [
    {
     "data": {
      "text/plain": [
       "(10, 7)"
      ]
     },
     "execution_count": 108,
     "metadata": {},
     "output_type": "execute_result"
    }
   ],
   "source": [
    "df.shape"
   ]
  },
  {
   "cell_type": "markdown",
   "metadata": {},
   "source": [
    "Ten classes for the relative esstimate of drought-based mortality risk and its summary features"
   ]
  },
  {
   "cell_type": "code",
   "execution_count": 149,
   "metadata": {},
   "outputs": [],
   "source": [
    "# Opening raster file and skipping the first 6 roas of header\n",
    "myArray = np.loadtxt(\"gddrgmrt/gddrgmrt.asc\", skiprows=6)"
   ]
  },
  {
   "cell_type": "code",
   "execution_count": 137,
   "metadata": {},
   "outputs": [
    {
     "data": {
      "text/plain": [
       "numpy.ndarray"
      ]
     },
     "execution_count": 137,
     "metadata": {},
     "output_type": "execute_result"
    }
   ],
   "source": [
    "type(myArray)"
   ]
  },
  {
   "cell_type": "code",
   "execution_count": 112,
   "metadata": {},
   "outputs": [
    {
     "data": {
      "text/plain": [
       "'# ncols     8633\\n'"
      ]
     },
     "execution_count": 112,
     "metadata": {},
     "output_type": "execute_result"
    }
   ],
   "source": [
    "# Checking my lines\n",
    "line1 = linecache.getline(\"myGrid.asc\", 1)"
   ]
  },
  {
   "cell_type": "markdown",
   "metadata": {},
   "source": [
    "Following block of code adapted from: Geospatial Python by Joel Lawhead on Dec. 2020. \n",
    "\n",
    "Available at: \n",
    "http://geospatialpython.com/2013/12/python-and-elevation-data-ascii-grid.html"
   ]
  },
  {
   "cell_type": "code",
   "execution_count": 151,
   "metadata": {},
   "outputs": [],
   "source": [
    "# A different way  \n",
    "header = \"ncols     %s\\n\" % myArray.shape[1]\n",
    "header += \"nrows    %s\\n\" % myArray.shape[0]\n",
    "header += \"xllcorner     -179.9984\\n\"\n",
    "header += \"yllcorner     -58.015072\\n\"\n",
    "header += \"cellsize      0.0417\\n\"\n",
    "header += \"NODATA_value  -9999\\n\"\n",
    "\n",
    "np.savetxt(\"myGrid.asc\", myArray, \\\n",
    "header=header, fmt=\"%1.2f\")"
   ]
  },
  {
   "cell_type": "code",
   "execution_count": 126,
   "metadata": {},
   "outputs": [],
   "source": [
    "# For proper file closure \n",
    "with open(\"myGrid.asc\", \"w\") as f:\n",
    "    f.write(header)\n",
    "    numpy.savetxt(f, myArray, fmt=\"%1.2f\")"
   ]
  },
  {
   "cell_type": "code",
   "execution_count": 153,
   "metadata": {},
   "outputs": [],
   "source": [
    "# Replacing no data values with ?\n",
    "#myNewArray = np.where(myArray=-9999,0)"
   ]
  },
  {
   "cell_type": "code",
   "execution_count": 156,
   "metadata": {},
   "outputs": [
    {
     "data": {
      "image/png": "[encoded data removed]",
      "text/plain": [
       "<Figure size 720x720 with 1 Axes>"
      ]
     },
     "metadata": {
      "needs_background": "light"
     },
     "output_type": "display_data"
    },
    {
     "data": {
      "text/plain": [
       "<Figure size 432x288 with 0 Axes>"
      ]
     },
     "metadata": {},
     "output_type": "display_data"
    }
   ],
   "source": [
    "plt.figure(figsize=(10,10))\n",
    "plt.imshow(myArray)\n",
    "plt.title('Global Drought Mortality Risks and Distribution')\n",
    "plt.show()\n",
    "plt.savefig('globalDroughtRisk')"
   ]
  },
  {
   "cell_type": "code",
   "execution_count": 159,
   "metadata": {},
   "outputs": [
    {
     "data": {
      "text/plain": [
       "Text(0.5, 1.0, 'Histogram of Global Drought Mortality Risk Raster')"
      ]
     },
     "execution_count": 159,
     "metadata": {},
     "output_type": "execute_result"
    },
    {
     "data": {
      "image/png": "[encoded data removed]",
      "text/plain": [
       "<Figure size 432x288 with 1 Axes>"
      ]
     },
     "metadata": {
      "needs_background": "light"
     },
     "output_type": "display_data"
    }
   ],
   "source": [
    "plt.hist(myArray)\n",
    "plt.title('Histogram of Global Drought Mortality Risk Raster')"
   ]
  },
  {
   "cell_type": "code",
   "execution_count": 160,
   "metadata": {},
   "outputs": [],
   "source": [
    "# Deal with no data values "
   ]
  },
  {
   "cell_type": "code",
   "execution_count": null,
   "metadata": {},
   "outputs": [],
   "source": []
  },
  {
   "cell_type": "code",
   "execution_count": null,
   "metadata": {},
   "outputs": [],
   "source": []
  },
  {
   "cell_type": "markdown",
   "metadata": {},
   "source": [
    "## References:\n",
    "\n",
    "Data: \n",
    "\n",
    "Center for Hazards and Risk Research - CHRR - Columbia University, Center for International Earth Science Information Network - CIESIN - Columbia University, and International Bank for Reconstruction and Development - The World Bank. 2005. Global Drought Mortality Risks and Distribution. Palisades, NY: NASA Socioeconomic Data and Applications Center (SEDAC). http://dx.doi.org/10.7927/H4R49NQV. Accessed DAY MONTH YEAR.\n",
    "\n",
    "Dilley, M., R.S. Chen, U. Deichmann, A.L. Lerner-Lam, M. Arnold, J. Agwe, P. Buys, O. Kjekstad, B. Lyon, and G. Yetman. 2005. Natural Disaster Hotspots: A Global Risk Analysis. Disaster Risk Management Series No. 5. Washington, D.C.: The World Bank. http://go.worldbank.org/PT8XJZW3K0.\n",
    "\n",
    "\n",
    "\n",
    "\n"
   ]
  },
  {
   "cell_type": "code",
   "execution_count": null,
   "metadata": {},
   "outputs": [],
   "source": []
  }
 ],
 "metadata": {
  "kernelspec": {
   "display_name": "Python 3",
   "language": "python",
   "name": "python3"
  },
  "language_info": {
   "codemirror_mode": {
    "name": "ipython",
    "version": 3
   },
   "file_extension": ".py",
   "mimetype": "text/x-python",
   "name": "python",
   "nbconvert_exporter": "python",
   "pygments_lexer": "ipython3",
   "version": "3.8.5"
  }
 },
 "nbformat": 4,
 "nbformat_minor": 4
}
